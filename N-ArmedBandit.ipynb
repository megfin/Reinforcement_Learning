{
 "cells": [
  {
   "cell_type": "markdown",
   "metadata": {},
   "source": [
    "# N-Armed Bandit Problem"
   ]
  },
  {
   "cell_type": "markdown",
   "metadata": {},
   "source": [
    "## ϵ (epsilon)-greedy algorithm\n",
    "\"One very famous approach to solving reinforcement learning problems is the ϵ (epsilon)-greedy algorithm, such that, with a probability ϵ, you will choose an action a at random (exploration), and the rest of the time (probability 1−ϵ) you will select the best lever based on what you currently know from past plays (exploitation). So most of the time you play greedy, but sometimes you take some risks and choose a random lever and see what happens.\"\n",
    "\n",
    "Experiment inspired by https://www.datacamp.com/community/tutorials/introduction-reinforcement-learning#implementation"
   ]
  },
  {
   "cell_type": "code",
   "execution_count": 4,
   "metadata": {},
   "outputs": [],
   "source": [
    "#import necessary packages\n",
    "import numpy as np\n",
    "import random\n",
    "import plotly.graph_objects as go\n",
    "np.random.seed(5)"
   ]
  },
  {
   "cell_type": "code",
   "execution_count": 36,
   "metadata": {},
   "outputs": [],
   "source": [
    "#calculate the reward from the choice, mean and variance in the Q_values table\n",
    "def Reward(choice, buttons_mean, buttons_variance):\n",
    "    current_reward = np.random.normal(buttons_mean[choice],buttons_variance[choice])\n",
    "    return current_reward\n",
    "\n",
    "#Trial creates a new Q table to enact the Policy over \"it\" number of iterations\n",
    "def Trial(eps,num_buttons,buttons_mean,buttons_variance,it=100):\n",
    "    Q_values = np.zeros(num_buttons) #initialize Q_values table\n",
    "    Q_tracker = np.zeros(num_buttons) #initialze tracking table\n",
    "    all_rewards = []\n",
    "    for i in range(it):\n",
    "        choice = Policy(eps,num_buttons,Q_values) #make choice\n",
    "        current_reward = Reward(choice,buttons_mean,buttons_variance) #get reward\n",
    "        all_rewards.append(current_reward) #store reward\n",
    "        Q_values,Q_tracker = UpdateQTable(choice,current_reward,Q_values,Q_tracker) #calculate new mean in Q_values table\n",
    "    return all_rewards #return rewards from the trials\n",
    "\n",
    "#Experiment now takes a list of epsilons to determine how different choices of greedy epsilons affect convergence of the Policy\n",
    "def Experiment(eps_list,num_buttons):\n",
    "    eps_rewards = []\n",
    "    for eps in eps_list: #iterate over different values of epsilon and run a trial for each\n",
    "        eps_rewards.append(Trial(eps,num_buttons,buttons_mean,buttons_variance))        \n",
    "    return eps_rewards #return all rewards for each epsilon value and trial\n",
    "\n",
    "    \n",
    "#create an epsilon-greedy policy function that will allow our n-armed bandit to choose which button to press\n",
    "def Policy(eps,num_buttons,Q_values):\n",
    "    #initialize a random greedy probability\n",
    "    greedy_prob =  np.random.random() \n",
    "     #make a random choice if the greedy_prob is less than eps otherwise take the best choice\n",
    "    if greedy_prob < eps:\n",
    "        choice = np.random.randint(num_buttons)\n",
    "    else:\n",
    "        choice = np.argmax(Q_values)  \n",
    "    \n",
    "    return choice    \n",
    "\n",
    "#write a function to figure out how to update the Q_values table\n",
    "#UpdateQTable updates both Q_values with a new current mean and also updates Q_tracker, tracking the number of times\n",
    "#Q_tracker[choice] has been chosen\n",
    "#return Q_value, Q_tracker as a tuple\n",
    "def UpdateQTable(choice,current_reward,Q_values,Q_tracker):\n",
    "    Q_tracker[choice] +=1\n",
    "    Q_values[choice] += current_reward/Q_tracker[choice]\n",
    "    return Q_values, Q_tracker   "
   ]
  },
  {
   "cell_type": "code",
   "execution_count": 41,
   "metadata": {},
   "outputs": [],
   "source": [
    "eps_list = [.01,.1,.7] #choose 3 values of epsilon\n",
    "\n",
    "num_buttons = 10 #number of buttons or arms our machine has\n",
    "\n",
    "buttons_mean = [np.random.normal(100,10) for x in range(num_buttons)] #initialize mean of each button\n",
    "buttons_variance = [np.random.normal(5,2) for x in range(num_buttons)] #initialize variance of each button\n",
    "\n",
    "# run the experiment\n",
    "final_exp = Experiment(eps_list,num_buttons)\n",
    "\n",
    "#compute running average of reward\n",
    "for i in range(len(final_exp)):\n",
    "    for j in range(len(final_exp[0])):\n",
    "        final_exp[i][j] = np.mean(final_exp[i][:j+1])"
   ]
  },
  {
   "cell_type": "code",
   "execution_count": 42,
   "metadata": {},
   "outputs": [
    {
     "data": {
      "application/vnd.plotly.v1+json": {
       "config": {
        "plotlyServerURL": "https://plot.ly"
       },
       "data": [
        {
         "mode": "lines",
         "name": "eps=.01",
         "type": "scatter",
         "x": [
          0,
          1,
          2,
          3,
          4,
          5,
          6,
          7,
          8,
          9,
          10,
          11,
          12,
          13,
          14,
          15,
          16,
          17,
          18,
          19,
          20,
          21,
          22,
          23,
          24,
          25,
          26,
          27,
          28,
          29,
          30,
          31,
          32,
          33,
          34,
          35,
          36,
          37,
          38,
          39,
          40,
          41,
          42,
          43,
          44,
          45,
          46,
          47,
          48,
          49,
          50,
          51,
          52,
          53,
          54,
          55,
          56,
          57,
          58,
          59,
          60,
          61,
          62,
          63,
          64,
          65,
          66,
          67,
          68,
          69,
          70,
          71,
          72,
          73,
          74,
          75,
          76,
          77,
          78,
          79,
          80,
          81,
          82,
          83,
          84,
          85,
          86,
          87,
          88,
          89,
          90,
          91,
          92,
          93,
          94,
          95,
          96,
          97,
          98,
          99
         ],
         "y": [
          112.4512585863382,
          110.77362728407121,
          112.27630181664995,
          112.43852159953302,
          111.21958741041813,
          111.84165194510832,
          111.44160555622294,
          112.07022025620776,
          111.13248782677367,
          111.84806248494912,
          112.04326922709559,
          111.78765092784049,
          111.92393923255749,
          111.86761420064377,
          111.79371194727263,
          111.66054810078705,
          111.91682991227444,
          111.52675129386047,
          111.67303464601144,
          111.7094733870634,
          111.88132141831423,
          111.81783564316888,
          111.52925763691073,
          111.74592133327864,
          111.64075826487424,
          111.67246018131914,
          111.69934206886212,
          111.89663676483613,
          111.8706134382539,
          111.70762143122555,
          111.80584833319692,
          111.825232094234,
          111.69476023515338,
          111.72946861337071,
          111.6903759217833,
          111.793583958368,
          111.71337537780798,
          111.71218604146085,
          111.67102515335554,
          111.67415295723526,
          111.75659611670312,
          111.79396302611543,
          111.7853738667564,
          111.75720643333126,
          111.70503019451299,
          111.7227560413609,
          111.74795964899454,
          111.72256052230732,
          111.75909758301675,
          111.70815870006622,
          111.78479135746197,
          111.67574235309647,
          111.65748604141223,
          111.73605502506572,
          111.80707776516275,
          111.74682355632545,
          111.73794758465391,
          111.69643149491004,
          111.82011942720757,
          111.73906834801299,
          111.64888860767554,
          111.82344626001945,
          111.73699876164582,
          111.7473488826242,
          111.80486072648861,
          111.74463690677024,
          111.75604090711607,
          111.7348417423569,
          111.72425085365367,
          111.74043207949863,
          111.78354811551282,
          111.79670048105825,
          111.7758928473519,
          111.77037918128553,
          111.70603425415463,
          111.77136940706896,
          111.7195751975443,
          111.75253085498382,
          111.7568033404717,
          111.78301964088038,
          111.74952530621468,
          111.73556691242685,
          111.79567210167555,
          111.72245785480477,
          111.69943402220721,
          111.79002036483753,
          111.77358987805987,
          111.70750933137978,
          111.75836212449944,
          111.80091691067378,
          111.73057340612094,
          111.67898599457956,
          111.73977979024862,
          111.73048481302632,
          111.72381502247289,
          111.72350695175378,
          111.7308213933056,
          111.70746480268582,
          111.68285638089787,
          111.71504429563434
         ]
        },
        {
         "mode": "lines",
         "name": "eps=.1",
         "type": "scatter",
         "x": [
          0,
          1,
          2,
          3,
          4,
          5,
          6,
          7,
          8,
          9,
          10,
          11,
          12,
          13,
          14,
          15,
          16,
          17,
          18,
          19,
          20,
          21,
          22,
          23,
          24,
          25,
          26,
          27,
          28,
          29,
          30,
          31,
          32,
          33,
          34,
          35,
          36,
          37,
          38,
          39,
          40,
          41,
          42,
          43,
          44,
          45,
          46,
          47,
          48,
          49,
          50,
          51,
          52,
          53,
          54,
          55,
          56,
          57,
          58,
          59,
          60,
          61,
          62,
          63,
          64,
          65,
          66,
          67,
          68,
          69,
          70,
          71,
          72,
          73,
          74,
          75,
          76,
          77,
          78,
          79,
          80,
          81,
          82,
          83,
          84,
          85,
          86,
          87,
          88,
          89,
          90,
          91,
          92,
          93,
          94,
          95,
          96,
          97,
          98,
          99
         ],
         "y": [
          114.31460110901546,
          100.56831549312017,
          109.93281937351206,
          109.74879191875121,
          109.0362695248566,
          108.93077052839983,
          108.97961770641949,
          108.87062608377639,
          108.48416371076536,
          108.83567982578415,
          106.97772117249343,
          108.9933663701705,
          108.16937069192643,
          108.35048026540359,
          108.73285818658313,
          108.35471834400238,
          109.18499729228424,
          108.71397438657715,
          108.98839865049153,
          108.69876275052759,
          108.69488524737005,
          108.6175874767945,
          108.76562082012985,
          108.66045763125516,
          108.72815118695307,
          108.83305828695678,
          108.3018777968513,
          108.7983558973129,
          108.58263065455128,
          108.66036248672434,
          108.92319595923804,
          108.8892910229921,
          108.72174433382573,
          108.50342850799977,
          108.72962285641094,
          108.76682485170049,
          108.71808813039135,
          108.71256609660368,
          108.68709215672632,
          108.6978415833361,
          108.1532355935804,
          108.677341332597,
          108.71556924887982,
          108.81317267434866,
          108.77858750177178,
          108.80164517819689,
          108.71240024003221,
          108.81571402099593,
          108.80118664972683,
          108.72769182603392,
          108.83027343707145,
          108.70319068852108,
          108.74531046777801,
          108.76063321029955,
          108.73789593708412,
          108.67211656015674,
          108.69644857777442,
          108.47275877804643,
          108.68589520428534,
          108.73217753848233,
          108.7841448189041,
          108.74567669352231,
          108.7669686172001,
          108.720907574108,
          108.75865490364856,
          108.72132116509606,
          108.68808935329916,
          108.74347820153105,
          108.76428649613023,
          108.74722561205961,
          108.74777794669752,
          108.29193242563883,
          108.73708107948943,
          108.75704974961126,
          108.69767619335425,
          108.70963297846488,
          108.7225653547355,
          108.7100715521495,
          108.77395198380313,
          108.65019380479744,
          108.7039156010796,
          108.71241983230586,
          108.71975485568424,
          108.74921659330911,
          108.68896376625635,
          108.7230586875893,
          108.71938398604172,
          108.7735363532966,
          108.68189469192978,
          108.69359832138232,
          108.73131114693776,
          108.77008075353123,
          108.68260528901592,
          108.71066140606858,
          108.71945617081414,
          108.71191284288288,
          108.73771033781205,
          108.77064764257078,
          108.71897004480815,
          108.78585316616437
         ]
        },
        {
         "mode": "lines",
         "name": "eps=.7",
         "type": "scatter",
         "x": [
          0,
          1,
          2,
          3,
          4,
          5,
          6,
          7,
          8,
          9,
          10,
          11,
          12,
          13,
          14,
          15,
          16,
          17,
          18,
          19,
          20,
          21,
          22,
          23,
          24,
          25,
          26,
          27,
          28,
          29,
          30,
          31,
          32,
          33,
          34,
          35,
          36,
          37,
          38,
          39,
          40,
          41,
          42,
          43,
          44,
          45,
          46,
          47,
          48,
          49,
          50,
          51,
          52,
          53,
          54,
          55,
          56,
          57,
          58,
          59,
          60,
          61,
          62,
          63,
          64,
          65,
          66,
          67,
          68,
          69,
          70,
          71,
          72,
          73,
          74,
          75,
          76,
          77,
          78,
          79,
          80,
          81,
          82,
          83,
          84,
          85,
          86,
          87,
          88,
          89,
          90,
          91,
          92,
          93,
          94,
          95,
          96,
          97,
          98,
          99
         ],
         "y": [
          92.35412943226864,
          92.83485534134269,
          89.8724779115729,
          91.03231383799952,
          91.23063578881055,
          94.38419470964931,
          92.65911605347863,
          92.61258624304381,
          92.91689356228187,
          92.8033908849688,
          92.68651932469378,
          92.35275222249949,
          93.41454757005623,
          93.2732381873324,
          92.68883682969863,
          93.94656184667463,
          92.63581714504325,
          92.74459596774169,
          92.49580281917777,
          92.55564031435577,
          93.90410656710608,
          92.32399496256673,
          92.17578055038338,
          92.91404236598014,
          92.85553915440698,
          93.1624952394334,
          92.74753692337333,
          92.56558110356389,
          92.8006629031459,
          92.86509207475545,
          92.87515517392215,
          92.99391808900506,
          92.87889633597054,
          92.74937055497891,
          92.79184047109642,
          92.95743769158379,
          92.78811772522785,
          93.23999717596108,
          92.79576246630425,
          92.76073291697428,
          92.58592454208217,
          92.75774157603122,
          92.50254252777403,
          93.19405664030283,
          92.46898392802665,
          93.01662474893814,
          92.73604465263965,
          92.97122704188764,
          93.13571641699487,
          92.47158419865836,
          92.74736395993641,
          92.71745062530248,
          92.97594632970403,
          93.08959518283625,
          92.8483950950093,
          92.9181752410635,
          92.82400011339227,
          92.90376977150753,
          92.48057567555891,
          92.86926482725485,
          92.80310229152303,
          92.94834664693954,
          92.76611465471686,
          92.70878712531547,
          92.76766556180839,
          93.07159615902424,
          92.60988985392464,
          92.73240880357193,
          92.69466423429586,
          92.87864035554149,
          93.00629798316568,
          93.11734995480194,
          92.69946948562311,
          92.92439346802766,
          92.82038864100335,
          93.09755820320807,
          93.13353799908073,
          92.73676997179918,
          92.80876671003999,
          93.06601038111711,
          92.90089738678796,
          92.83793042679252,
          92.86230689431349,
          92.92459886107196,
          92.92569398433363,
          93.07383216880072,
          92.75249071730664,
          92.96893481852044,
          93.07080636334346,
          92.80406982144925,
          92.79473000575958,
          92.9663471454393,
          93.08503973479617,
          93.09733896535538,
          92.98849398620229,
          93.0111083095502,
          92.84330962698763,
          92.8424288999725,
          92.8481678774281,
          92.764133668087
         ]
        }
       ],
       "layout": {
        "template": {
         "data": {
          "bar": [
           {
            "error_x": {
             "color": "#2a3f5f"
            },
            "error_y": {
             "color": "#2a3f5f"
            },
            "marker": {
             "line": {
              "color": "#E5ECF6",
              "width": 0.5
             }
            },
            "type": "bar"
           }
          ],
          "barpolar": [
           {
            "marker": {
             "line": {
              "color": "#E5ECF6",
              "width": 0.5
             }
            },
            "type": "barpolar"
           }
          ],
          "carpet": [
           {
            "aaxis": {
             "endlinecolor": "#2a3f5f",
             "gridcolor": "white",
             "linecolor": "white",
             "minorgridcolor": "white",
             "startlinecolor": "#2a3f5f"
            },
            "baxis": {
             "endlinecolor": "#2a3f5f",
             "gridcolor": "white",
             "linecolor": "white",
             "minorgridcolor": "white",
             "startlinecolor": "#2a3f5f"
            },
            "type": "carpet"
           }
          ],
          "choropleth": [
           {
            "colorbar": {
             "outlinewidth": 0,
             "ticks": ""
            },
            "type": "choropleth"
           }
          ],
          "contour": [
           {
            "colorbar": {
             "outlinewidth": 0,
             "ticks": ""
            },
            "colorscale": [
             [
              0,
              "#0d0887"
             ],
             [
              0.1111111111111111,
              "#46039f"
             ],
             [
              0.2222222222222222,
              "#7201a8"
             ],
             [
              0.3333333333333333,
              "#9c179e"
             ],
             [
              0.4444444444444444,
              "#bd3786"
             ],
             [
              0.5555555555555556,
              "#d8576b"
             ],
             [
              0.6666666666666666,
              "#ed7953"
             ],
             [
              0.7777777777777778,
              "#fb9f3a"
             ],
             [
              0.8888888888888888,
              "#fdca26"
             ],
             [
              1,
              "#f0f921"
             ]
            ],
            "type": "contour"
           }
          ],
          "contourcarpet": [
           {
            "colorbar": {
             "outlinewidth": 0,
             "ticks": ""
            },
            "type": "contourcarpet"
           }
          ],
          "heatmap": [
           {
            "colorbar": {
             "outlinewidth": 0,
             "ticks": ""
            },
            "colorscale": [
             [
              0,
              "#0d0887"
             ],
             [
              0.1111111111111111,
              "#46039f"
             ],
             [
              0.2222222222222222,
              "#7201a8"
             ],
             [
              0.3333333333333333,
              "#9c179e"
             ],
             [
              0.4444444444444444,
              "#bd3786"
             ],
             [
              0.5555555555555556,
              "#d8576b"
             ],
             [
              0.6666666666666666,
              "#ed7953"
             ],
             [
              0.7777777777777778,
              "#fb9f3a"
             ],
             [
              0.8888888888888888,
              "#fdca26"
             ],
             [
              1,
              "#f0f921"
             ]
            ],
            "type": "heatmap"
           }
          ],
          "heatmapgl": [
           {
            "colorbar": {
             "outlinewidth": 0,
             "ticks": ""
            },
            "colorscale": [
             [
              0,
              "#0d0887"
             ],
             [
              0.1111111111111111,
              "#46039f"
             ],
             [
              0.2222222222222222,
              "#7201a8"
             ],
             [
              0.3333333333333333,
              "#9c179e"
             ],
             [
              0.4444444444444444,
              "#bd3786"
             ],
             [
              0.5555555555555556,
              "#d8576b"
             ],
             [
              0.6666666666666666,
              "#ed7953"
             ],
             [
              0.7777777777777778,
              "#fb9f3a"
             ],
             [
              0.8888888888888888,
              "#fdca26"
             ],
             [
              1,
              "#f0f921"
             ]
            ],
            "type": "heatmapgl"
           }
          ],
          "histogram": [
           {
            "marker": {
             "colorbar": {
              "outlinewidth": 0,
              "ticks": ""
             }
            },
            "type": "histogram"
           }
          ],
          "histogram2d": [
           {
            "colorbar": {
             "outlinewidth": 0,
             "ticks": ""
            },
            "colorscale": [
             [
              0,
              "#0d0887"
             ],
             [
              0.1111111111111111,
              "#46039f"
             ],
             [
              0.2222222222222222,
              "#7201a8"
             ],
             [
              0.3333333333333333,
              "#9c179e"
             ],
             [
              0.4444444444444444,
              "#bd3786"
             ],
             [
              0.5555555555555556,
              "#d8576b"
             ],
             [
              0.6666666666666666,
              "#ed7953"
             ],
             [
              0.7777777777777778,
              "#fb9f3a"
             ],
             [
              0.8888888888888888,
              "#fdca26"
             ],
             [
              1,
              "#f0f921"
             ]
            ],
            "type": "histogram2d"
           }
          ],
          "histogram2dcontour": [
           {
            "colorbar": {
             "outlinewidth": 0,
             "ticks": ""
            },
            "colorscale": [
             [
              0,
              "#0d0887"
             ],
             [
              0.1111111111111111,
              "#46039f"
             ],
             [
              0.2222222222222222,
              "#7201a8"
             ],
             [
              0.3333333333333333,
              "#9c179e"
             ],
             [
              0.4444444444444444,
              "#bd3786"
             ],
             [
              0.5555555555555556,
              "#d8576b"
             ],
             [
              0.6666666666666666,
              "#ed7953"
             ],
             [
              0.7777777777777778,
              "#fb9f3a"
             ],
             [
              0.8888888888888888,
              "#fdca26"
             ],
             [
              1,
              "#f0f921"
             ]
            ],
            "type": "histogram2dcontour"
           }
          ],
          "mesh3d": [
           {
            "colorbar": {
             "outlinewidth": 0,
             "ticks": ""
            },
            "type": "mesh3d"
           }
          ],
          "parcoords": [
           {
            "line": {
             "colorbar": {
              "outlinewidth": 0,
              "ticks": ""
             }
            },
            "type": "parcoords"
           }
          ],
          "pie": [
           {
            "automargin": true,
            "type": "pie"
           }
          ],
          "scatter": [
           {
            "marker": {
             "colorbar": {
              "outlinewidth": 0,
              "ticks": ""
             }
            },
            "type": "scatter"
           }
          ],
          "scatter3d": [
           {
            "line": {
             "colorbar": {
              "outlinewidth": 0,
              "ticks": ""
             }
            },
            "marker": {
             "colorbar": {
              "outlinewidth": 0,
              "ticks": ""
             }
            },
            "type": "scatter3d"
           }
          ],
          "scattercarpet": [
           {
            "marker": {
             "colorbar": {
              "outlinewidth": 0,
              "ticks": ""
             }
            },
            "type": "scattercarpet"
           }
          ],
          "scattergeo": [
           {
            "marker": {
             "colorbar": {
              "outlinewidth": 0,
              "ticks": ""
             }
            },
            "type": "scattergeo"
           }
          ],
          "scattergl": [
           {
            "marker": {
             "colorbar": {
              "outlinewidth": 0,
              "ticks": ""
             }
            },
            "type": "scattergl"
           }
          ],
          "scattermapbox": [
           {
            "marker": {
             "colorbar": {
              "outlinewidth": 0,
              "ticks": ""
             }
            },
            "type": "scattermapbox"
           }
          ],
          "scatterpolar": [
           {
            "marker": {
             "colorbar": {
              "outlinewidth": 0,
              "ticks": ""
             }
            },
            "type": "scatterpolar"
           }
          ],
          "scatterpolargl": [
           {
            "marker": {
             "colorbar": {
              "outlinewidth": 0,
              "ticks": ""
             }
            },
            "type": "scatterpolargl"
           }
          ],
          "scatterternary": [
           {
            "marker": {
             "colorbar": {
              "outlinewidth": 0,
              "ticks": ""
             }
            },
            "type": "scatterternary"
           }
          ],
          "surface": [
           {
            "colorbar": {
             "outlinewidth": 0,
             "ticks": ""
            },
            "colorscale": [
             [
              0,
              "#0d0887"
             ],
             [
              0.1111111111111111,
              "#46039f"
             ],
             [
              0.2222222222222222,
              "#7201a8"
             ],
             [
              0.3333333333333333,
              "#9c179e"
             ],
             [
              0.4444444444444444,
              "#bd3786"
             ],
             [
              0.5555555555555556,
              "#d8576b"
             ],
             [
              0.6666666666666666,
              "#ed7953"
             ],
             [
              0.7777777777777778,
              "#fb9f3a"
             ],
             [
              0.8888888888888888,
              "#fdca26"
             ],
             [
              1,
              "#f0f921"
             ]
            ],
            "type": "surface"
           }
          ],
          "table": [
           {
            "cells": {
             "fill": {
              "color": "#EBF0F8"
             },
             "line": {
              "color": "white"
             }
            },
            "header": {
             "fill": {
              "color": "#C8D4E3"
             },
             "line": {
              "color": "white"
             }
            },
            "type": "table"
           }
          ]
         },
         "layout": {
          "annotationdefaults": {
           "arrowcolor": "#2a3f5f",
           "arrowhead": 0,
           "arrowwidth": 1
          },
          "coloraxis": {
           "colorbar": {
            "outlinewidth": 0,
            "ticks": ""
           }
          },
          "colorscale": {
           "diverging": [
            [
             0,
             "#8e0152"
            ],
            [
             0.1,
             "#c51b7d"
            ],
            [
             0.2,
             "#de77ae"
            ],
            [
             0.3,
             "#f1b6da"
            ],
            [
             0.4,
             "#fde0ef"
            ],
            [
             0.5,
             "#f7f7f7"
            ],
            [
             0.6,
             "#e6f5d0"
            ],
            [
             0.7,
             "#b8e186"
            ],
            [
             0.8,
             "#7fbc41"
            ],
            [
             0.9,
             "#4d9221"
            ],
            [
             1,
             "#276419"
            ]
           ],
           "sequential": [
            [
             0,
             "#0d0887"
            ],
            [
             0.1111111111111111,
             "#46039f"
            ],
            [
             0.2222222222222222,
             "#7201a8"
            ],
            [
             0.3333333333333333,
             "#9c179e"
            ],
            [
             0.4444444444444444,
             "#bd3786"
            ],
            [
             0.5555555555555556,
             "#d8576b"
            ],
            [
             0.6666666666666666,
             "#ed7953"
            ],
            [
             0.7777777777777778,
             "#fb9f3a"
            ],
            [
             0.8888888888888888,
             "#fdca26"
            ],
            [
             1,
             "#f0f921"
            ]
           ],
           "sequentialminus": [
            [
             0,
             "#0d0887"
            ],
            [
             0.1111111111111111,
             "#46039f"
            ],
            [
             0.2222222222222222,
             "#7201a8"
            ],
            [
             0.3333333333333333,
             "#9c179e"
            ],
            [
             0.4444444444444444,
             "#bd3786"
            ],
            [
             0.5555555555555556,
             "#d8576b"
            ],
            [
             0.6666666666666666,
             "#ed7953"
            ],
            [
             0.7777777777777778,
             "#fb9f3a"
            ],
            [
             0.8888888888888888,
             "#fdca26"
            ],
            [
             1,
             "#f0f921"
            ]
           ]
          },
          "colorway": [
           "#636efa",
           "#EF553B",
           "#00cc96",
           "#ab63fa",
           "#FFA15A",
           "#19d3f3",
           "#FF6692",
           "#B6E880",
           "#FF97FF",
           "#FECB52"
          ],
          "font": {
           "color": "#2a3f5f"
          },
          "geo": {
           "bgcolor": "white",
           "lakecolor": "white",
           "landcolor": "#E5ECF6",
           "showlakes": true,
           "showland": true,
           "subunitcolor": "white"
          },
          "hoverlabel": {
           "align": "left"
          },
          "hovermode": "closest",
          "mapbox": {
           "style": "light"
          },
          "paper_bgcolor": "white",
          "plot_bgcolor": "#E5ECF6",
          "polar": {
           "angularaxis": {
            "gridcolor": "white",
            "linecolor": "white",
            "ticks": ""
           },
           "bgcolor": "#E5ECF6",
           "radialaxis": {
            "gridcolor": "white",
            "linecolor": "white",
            "ticks": ""
           }
          },
          "scene": {
           "xaxis": {
            "backgroundcolor": "#E5ECF6",
            "gridcolor": "white",
            "gridwidth": 2,
            "linecolor": "white",
            "showbackground": true,
            "ticks": "",
            "zerolinecolor": "white"
           },
           "yaxis": {
            "backgroundcolor": "#E5ECF6",
            "gridcolor": "white",
            "gridwidth": 2,
            "linecolor": "white",
            "showbackground": true,
            "ticks": "",
            "zerolinecolor": "white"
           },
           "zaxis": {
            "backgroundcolor": "#E5ECF6",
            "gridcolor": "white",
            "gridwidth": 2,
            "linecolor": "white",
            "showbackground": true,
            "ticks": "",
            "zerolinecolor": "white"
           }
          },
          "shapedefaults": {
           "line": {
            "color": "#2a3f5f"
           }
          },
          "ternary": {
           "aaxis": {
            "gridcolor": "white",
            "linecolor": "white",
            "ticks": ""
           },
           "baxis": {
            "gridcolor": "white",
            "linecolor": "white",
            "ticks": ""
           },
           "bgcolor": "#E5ECF6",
           "caxis": {
            "gridcolor": "white",
            "linecolor": "white",
            "ticks": ""
           }
          },
          "title": {
           "x": 0.05
          },
          "xaxis": {
           "automargin": true,
           "gridcolor": "white",
           "linecolor": "white",
           "ticks": "",
           "title": {
            "standoff": 15
           },
           "zerolinecolor": "white",
           "zerolinewidth": 2
          },
          "yaxis": {
           "automargin": true,
           "gridcolor": "white",
           "linecolor": "white",
           "ticks": "",
           "title": {
            "standoff": 15
           },
           "zerolinecolor": "white",
           "zerolinewidth": 2
          }
         }
        }
       }
      },
      "text/html": [
       "<div>\n",
       "        \n",
       "        \n",
       "            <div id=\"b8ddbb93-a75a-4380-acd8-4483f5e9afff\" class=\"plotly-graph-div\" style=\"height:525px; width:100%;\"></div>\n",
       "            <script type=\"text/javascript\">\n",
       "                require([\"plotly\"], function(Plotly) {\n",
       "                    window.PLOTLYENV=window.PLOTLYENV || {};\n",
       "                    \n",
       "                if (document.getElementById(\"b8ddbb93-a75a-4380-acd8-4483f5e9afff\")) {\n",
       "                    Plotly.newPlot(\n",
       "                        'b8ddbb93-a75a-4380-acd8-4483f5e9afff',\n",
       "                        [{\"mode\": \"lines\", \"name\": \"eps=.01\", \"type\": \"scatter\", \"x\": [0, 1, 2, 3, 4, 5, 6, 7, 8, 9, 10, 11, 12, 13, 14, 15, 16, 17, 18, 19, 20, 21, 22, 23, 24, 25, 26, 27, 28, 29, 30, 31, 32, 33, 34, 35, 36, 37, 38, 39, 40, 41, 42, 43, 44, 45, 46, 47, 48, 49, 50, 51, 52, 53, 54, 55, 56, 57, 58, 59, 60, 61, 62, 63, 64, 65, 66, 67, 68, 69, 70, 71, 72, 73, 74, 75, 76, 77, 78, 79, 80, 81, 82, 83, 84, 85, 86, 87, 88, 89, 90, 91, 92, 93, 94, 95, 96, 97, 98, 99], \"y\": [112.4512585863382, 110.77362728407121, 112.27630181664995, 112.43852159953302, 111.21958741041813, 111.84165194510832, 111.44160555622294, 112.07022025620776, 111.13248782677367, 111.84806248494912, 112.04326922709559, 111.78765092784049, 111.92393923255749, 111.86761420064377, 111.79371194727263, 111.66054810078705, 111.91682991227444, 111.52675129386047, 111.67303464601144, 111.7094733870634, 111.88132141831423, 111.81783564316888, 111.52925763691073, 111.74592133327864, 111.64075826487424, 111.67246018131914, 111.69934206886212, 111.89663676483613, 111.8706134382539, 111.70762143122555, 111.80584833319692, 111.825232094234, 111.69476023515338, 111.72946861337071, 111.6903759217833, 111.793583958368, 111.71337537780798, 111.71218604146085, 111.67102515335554, 111.67415295723526, 111.75659611670312, 111.79396302611543, 111.7853738667564, 111.75720643333126, 111.70503019451299, 111.7227560413609, 111.74795964899454, 111.72256052230732, 111.75909758301675, 111.70815870006622, 111.78479135746197, 111.67574235309647, 111.65748604141223, 111.73605502506572, 111.80707776516275, 111.74682355632545, 111.73794758465391, 111.69643149491004, 111.82011942720757, 111.73906834801299, 111.64888860767554, 111.82344626001945, 111.73699876164582, 111.7473488826242, 111.80486072648861, 111.74463690677024, 111.75604090711607, 111.7348417423569, 111.72425085365367, 111.74043207949863, 111.78354811551282, 111.79670048105825, 111.7758928473519, 111.77037918128553, 111.70603425415463, 111.77136940706896, 111.7195751975443, 111.75253085498382, 111.7568033404717, 111.78301964088038, 111.74952530621468, 111.73556691242685, 111.79567210167555, 111.72245785480477, 111.69943402220721, 111.79002036483753, 111.77358987805987, 111.70750933137978, 111.75836212449944, 111.80091691067378, 111.73057340612094, 111.67898599457956, 111.73977979024862, 111.73048481302632, 111.72381502247289, 111.72350695175378, 111.7308213933056, 111.70746480268582, 111.68285638089787, 111.71504429563434]}, {\"mode\": \"lines\", \"name\": \"eps=.1\", \"type\": \"scatter\", \"x\": [0, 1, 2, 3, 4, 5, 6, 7, 8, 9, 10, 11, 12, 13, 14, 15, 16, 17, 18, 19, 20, 21, 22, 23, 24, 25, 26, 27, 28, 29, 30, 31, 32, 33, 34, 35, 36, 37, 38, 39, 40, 41, 42, 43, 44, 45, 46, 47, 48, 49, 50, 51, 52, 53, 54, 55, 56, 57, 58, 59, 60, 61, 62, 63, 64, 65, 66, 67, 68, 69, 70, 71, 72, 73, 74, 75, 76, 77, 78, 79, 80, 81, 82, 83, 84, 85, 86, 87, 88, 89, 90, 91, 92, 93, 94, 95, 96, 97, 98, 99], \"y\": [114.31460110901546, 100.56831549312017, 109.93281937351206, 109.74879191875121, 109.0362695248566, 108.93077052839983, 108.97961770641949, 108.87062608377639, 108.48416371076536, 108.83567982578415, 106.97772117249343, 108.9933663701705, 108.16937069192643, 108.35048026540359, 108.73285818658313, 108.35471834400238, 109.18499729228424, 108.71397438657715, 108.98839865049153, 108.69876275052759, 108.69488524737005, 108.6175874767945, 108.76562082012985, 108.66045763125516, 108.72815118695307, 108.83305828695678, 108.3018777968513, 108.7983558973129, 108.58263065455128, 108.66036248672434, 108.92319595923804, 108.8892910229921, 108.72174433382573, 108.50342850799977, 108.72962285641094, 108.76682485170049, 108.71808813039135, 108.71256609660368, 108.68709215672632, 108.6978415833361, 108.1532355935804, 108.677341332597, 108.71556924887982, 108.81317267434866, 108.77858750177178, 108.80164517819689, 108.71240024003221, 108.81571402099593, 108.80118664972683, 108.72769182603392, 108.83027343707145, 108.70319068852108, 108.74531046777801, 108.76063321029955, 108.73789593708412, 108.67211656015674, 108.69644857777442, 108.47275877804643, 108.68589520428534, 108.73217753848233, 108.7841448189041, 108.74567669352231, 108.7669686172001, 108.720907574108, 108.75865490364856, 108.72132116509606, 108.68808935329916, 108.74347820153105, 108.76428649613023, 108.74722561205961, 108.74777794669752, 108.29193242563883, 108.73708107948943, 108.75704974961126, 108.69767619335425, 108.70963297846488, 108.7225653547355, 108.7100715521495, 108.77395198380313, 108.65019380479744, 108.7039156010796, 108.71241983230586, 108.71975485568424, 108.74921659330911, 108.68896376625635, 108.7230586875893, 108.71938398604172, 108.7735363532966, 108.68189469192978, 108.69359832138232, 108.73131114693776, 108.77008075353123, 108.68260528901592, 108.71066140606858, 108.71945617081414, 108.71191284288288, 108.73771033781205, 108.77064764257078, 108.71897004480815, 108.78585316616437]}, {\"mode\": \"lines\", \"name\": \"eps=.7\", \"type\": \"scatter\", \"x\": [0, 1, 2, 3, 4, 5, 6, 7, 8, 9, 10, 11, 12, 13, 14, 15, 16, 17, 18, 19, 20, 21, 22, 23, 24, 25, 26, 27, 28, 29, 30, 31, 32, 33, 34, 35, 36, 37, 38, 39, 40, 41, 42, 43, 44, 45, 46, 47, 48, 49, 50, 51, 52, 53, 54, 55, 56, 57, 58, 59, 60, 61, 62, 63, 64, 65, 66, 67, 68, 69, 70, 71, 72, 73, 74, 75, 76, 77, 78, 79, 80, 81, 82, 83, 84, 85, 86, 87, 88, 89, 90, 91, 92, 93, 94, 95, 96, 97, 98, 99], \"y\": [92.35412943226864, 92.83485534134269, 89.8724779115729, 91.03231383799952, 91.23063578881055, 94.38419470964931, 92.65911605347863, 92.61258624304381, 92.91689356228187, 92.8033908849688, 92.68651932469378, 92.35275222249949, 93.41454757005623, 93.2732381873324, 92.68883682969863, 93.94656184667463, 92.63581714504325, 92.74459596774169, 92.49580281917777, 92.55564031435577, 93.90410656710608, 92.32399496256673, 92.17578055038338, 92.91404236598014, 92.85553915440698, 93.1624952394334, 92.74753692337333, 92.56558110356389, 92.8006629031459, 92.86509207475545, 92.87515517392215, 92.99391808900506, 92.87889633597054, 92.74937055497891, 92.79184047109642, 92.95743769158379, 92.78811772522785, 93.23999717596108, 92.79576246630425, 92.76073291697428, 92.58592454208217, 92.75774157603122, 92.50254252777403, 93.19405664030283, 92.46898392802665, 93.01662474893814, 92.73604465263965, 92.97122704188764, 93.13571641699487, 92.47158419865836, 92.74736395993641, 92.71745062530248, 92.97594632970403, 93.08959518283625, 92.8483950950093, 92.9181752410635, 92.82400011339227, 92.90376977150753, 92.48057567555891, 92.86926482725485, 92.80310229152303, 92.94834664693954, 92.76611465471686, 92.70878712531547, 92.76766556180839, 93.07159615902424, 92.60988985392464, 92.73240880357193, 92.69466423429586, 92.87864035554149, 93.00629798316568, 93.11734995480194, 92.69946948562311, 92.92439346802766, 92.82038864100335, 93.09755820320807, 93.13353799908073, 92.73676997179918, 92.80876671003999, 93.06601038111711, 92.90089738678796, 92.83793042679252, 92.86230689431349, 92.92459886107196, 92.92569398433363, 93.07383216880072, 92.75249071730664, 92.96893481852044, 93.07080636334346, 92.80406982144925, 92.79473000575958, 92.9663471454393, 93.08503973479617, 93.09733896535538, 92.98849398620229, 93.0111083095502, 92.84330962698763, 92.8424288999725, 92.8481678774281, 92.764133668087]}],\n",
       "                        {\"template\": {\"data\": {\"bar\": [{\"error_x\": {\"color\": \"#2a3f5f\"}, \"error_y\": {\"color\": \"#2a3f5f\"}, \"marker\": {\"line\": {\"color\": \"#E5ECF6\", \"width\": 0.5}}, \"type\": \"bar\"}], \"barpolar\": [{\"marker\": {\"line\": {\"color\": \"#E5ECF6\", \"width\": 0.5}}, \"type\": \"barpolar\"}], \"carpet\": [{\"aaxis\": {\"endlinecolor\": \"#2a3f5f\", \"gridcolor\": \"white\", \"linecolor\": \"white\", \"minorgridcolor\": \"white\", \"startlinecolor\": \"#2a3f5f\"}, \"baxis\": {\"endlinecolor\": \"#2a3f5f\", \"gridcolor\": \"white\", \"linecolor\": \"white\", \"minorgridcolor\": \"white\", \"startlinecolor\": \"#2a3f5f\"}, \"type\": \"carpet\"}], \"choropleth\": [{\"colorbar\": {\"outlinewidth\": 0, \"ticks\": \"\"}, \"type\": \"choropleth\"}], \"contour\": [{\"colorbar\": {\"outlinewidth\": 0, \"ticks\": \"\"}, \"colorscale\": [[0.0, \"#0d0887\"], [0.1111111111111111, \"#46039f\"], [0.2222222222222222, \"#7201a8\"], [0.3333333333333333, \"#9c179e\"], [0.4444444444444444, \"#bd3786\"], [0.5555555555555556, \"#d8576b\"], [0.6666666666666666, \"#ed7953\"], [0.7777777777777778, \"#fb9f3a\"], [0.8888888888888888, \"#fdca26\"], [1.0, \"#f0f921\"]], \"type\": \"contour\"}], \"contourcarpet\": [{\"colorbar\": {\"outlinewidth\": 0, \"ticks\": \"\"}, \"type\": \"contourcarpet\"}], \"heatmap\": [{\"colorbar\": {\"outlinewidth\": 0, \"ticks\": \"\"}, \"colorscale\": [[0.0, \"#0d0887\"], [0.1111111111111111, \"#46039f\"], [0.2222222222222222, \"#7201a8\"], [0.3333333333333333, \"#9c179e\"], [0.4444444444444444, \"#bd3786\"], [0.5555555555555556, \"#d8576b\"], [0.6666666666666666, \"#ed7953\"], [0.7777777777777778, \"#fb9f3a\"], [0.8888888888888888, \"#fdca26\"], [1.0, \"#f0f921\"]], \"type\": \"heatmap\"}], \"heatmapgl\": [{\"colorbar\": {\"outlinewidth\": 0, \"ticks\": \"\"}, \"colorscale\": [[0.0, \"#0d0887\"], [0.1111111111111111, \"#46039f\"], [0.2222222222222222, \"#7201a8\"], [0.3333333333333333, \"#9c179e\"], [0.4444444444444444, \"#bd3786\"], [0.5555555555555556, \"#d8576b\"], [0.6666666666666666, \"#ed7953\"], [0.7777777777777778, \"#fb9f3a\"], [0.8888888888888888, \"#fdca26\"], [1.0, \"#f0f921\"]], \"type\": \"heatmapgl\"}], \"histogram\": [{\"marker\": {\"colorbar\": {\"outlinewidth\": 0, \"ticks\": \"\"}}, \"type\": \"histogram\"}], \"histogram2d\": [{\"colorbar\": {\"outlinewidth\": 0, \"ticks\": \"\"}, \"colorscale\": [[0.0, \"#0d0887\"], [0.1111111111111111, \"#46039f\"], [0.2222222222222222, \"#7201a8\"], [0.3333333333333333, \"#9c179e\"], [0.4444444444444444, \"#bd3786\"], [0.5555555555555556, \"#d8576b\"], [0.6666666666666666, \"#ed7953\"], [0.7777777777777778, \"#fb9f3a\"], [0.8888888888888888, \"#fdca26\"], [1.0, \"#f0f921\"]], \"type\": \"histogram2d\"}], \"histogram2dcontour\": [{\"colorbar\": {\"outlinewidth\": 0, \"ticks\": \"\"}, \"colorscale\": [[0.0, \"#0d0887\"], [0.1111111111111111, \"#46039f\"], [0.2222222222222222, \"#7201a8\"], [0.3333333333333333, \"#9c179e\"], [0.4444444444444444, \"#bd3786\"], [0.5555555555555556, \"#d8576b\"], [0.6666666666666666, \"#ed7953\"], [0.7777777777777778, \"#fb9f3a\"], [0.8888888888888888, \"#fdca26\"], [1.0, \"#f0f921\"]], \"type\": \"histogram2dcontour\"}], \"mesh3d\": [{\"colorbar\": {\"outlinewidth\": 0, \"ticks\": \"\"}, \"type\": \"mesh3d\"}], \"parcoords\": [{\"line\": {\"colorbar\": {\"outlinewidth\": 0, \"ticks\": \"\"}}, \"type\": \"parcoords\"}], \"pie\": [{\"automargin\": true, \"type\": \"pie\"}], \"scatter\": [{\"marker\": {\"colorbar\": {\"outlinewidth\": 0, \"ticks\": \"\"}}, \"type\": \"scatter\"}], \"scatter3d\": [{\"line\": {\"colorbar\": {\"outlinewidth\": 0, \"ticks\": \"\"}}, \"marker\": {\"colorbar\": {\"outlinewidth\": 0, \"ticks\": \"\"}}, \"type\": \"scatter3d\"}], \"scattercarpet\": [{\"marker\": {\"colorbar\": {\"outlinewidth\": 0, \"ticks\": \"\"}}, \"type\": \"scattercarpet\"}], \"scattergeo\": [{\"marker\": {\"colorbar\": {\"outlinewidth\": 0, \"ticks\": \"\"}}, \"type\": \"scattergeo\"}], \"scattergl\": [{\"marker\": {\"colorbar\": {\"outlinewidth\": 0, \"ticks\": \"\"}}, \"type\": \"scattergl\"}], \"scattermapbox\": [{\"marker\": {\"colorbar\": {\"outlinewidth\": 0, \"ticks\": \"\"}}, \"type\": \"scattermapbox\"}], \"scatterpolar\": [{\"marker\": {\"colorbar\": {\"outlinewidth\": 0, \"ticks\": \"\"}}, \"type\": \"scatterpolar\"}], \"scatterpolargl\": [{\"marker\": {\"colorbar\": {\"outlinewidth\": 0, \"ticks\": \"\"}}, \"type\": \"scatterpolargl\"}], \"scatterternary\": [{\"marker\": {\"colorbar\": {\"outlinewidth\": 0, \"ticks\": \"\"}}, \"type\": \"scatterternary\"}], \"surface\": [{\"colorbar\": {\"outlinewidth\": 0, \"ticks\": \"\"}, \"colorscale\": [[0.0, \"#0d0887\"], [0.1111111111111111, \"#46039f\"], [0.2222222222222222, \"#7201a8\"], [0.3333333333333333, \"#9c179e\"], [0.4444444444444444, \"#bd3786\"], [0.5555555555555556, \"#d8576b\"], [0.6666666666666666, \"#ed7953\"], [0.7777777777777778, \"#fb9f3a\"], [0.8888888888888888, \"#fdca26\"], [1.0, \"#f0f921\"]], \"type\": \"surface\"}], \"table\": [{\"cells\": {\"fill\": {\"color\": \"#EBF0F8\"}, \"line\": {\"color\": \"white\"}}, \"header\": {\"fill\": {\"color\": \"#C8D4E3\"}, \"line\": {\"color\": \"white\"}}, \"type\": \"table\"}]}, \"layout\": {\"annotationdefaults\": {\"arrowcolor\": \"#2a3f5f\", \"arrowhead\": 0, \"arrowwidth\": 1}, \"coloraxis\": {\"colorbar\": {\"outlinewidth\": 0, \"ticks\": \"\"}}, \"colorscale\": {\"diverging\": [[0, \"#8e0152\"], [0.1, \"#c51b7d\"], [0.2, \"#de77ae\"], [0.3, \"#f1b6da\"], [0.4, \"#fde0ef\"], [0.5, \"#f7f7f7\"], [0.6, \"#e6f5d0\"], [0.7, \"#b8e186\"], [0.8, \"#7fbc41\"], [0.9, \"#4d9221\"], [1, \"#276419\"]], \"sequential\": [[0.0, \"#0d0887\"], [0.1111111111111111, \"#46039f\"], [0.2222222222222222, \"#7201a8\"], [0.3333333333333333, \"#9c179e\"], [0.4444444444444444, \"#bd3786\"], [0.5555555555555556, \"#d8576b\"], [0.6666666666666666, \"#ed7953\"], [0.7777777777777778, \"#fb9f3a\"], [0.8888888888888888, \"#fdca26\"], [1.0, \"#f0f921\"]], \"sequentialminus\": [[0.0, \"#0d0887\"], [0.1111111111111111, \"#46039f\"], [0.2222222222222222, \"#7201a8\"], [0.3333333333333333, \"#9c179e\"], [0.4444444444444444, \"#bd3786\"], [0.5555555555555556, \"#d8576b\"], [0.6666666666666666, \"#ed7953\"], [0.7777777777777778, \"#fb9f3a\"], [0.8888888888888888, \"#fdca26\"], [1.0, \"#f0f921\"]]}, \"colorway\": [\"#636efa\", \"#EF553B\", \"#00cc96\", \"#ab63fa\", \"#FFA15A\", \"#19d3f3\", \"#FF6692\", \"#B6E880\", \"#FF97FF\", \"#FECB52\"], \"font\": {\"color\": \"#2a3f5f\"}, \"geo\": {\"bgcolor\": \"white\", \"lakecolor\": \"white\", \"landcolor\": \"#E5ECF6\", \"showlakes\": true, \"showland\": true, \"subunitcolor\": \"white\"}, \"hoverlabel\": {\"align\": \"left\"}, \"hovermode\": \"closest\", \"mapbox\": {\"style\": \"light\"}, \"paper_bgcolor\": \"white\", \"plot_bgcolor\": \"#E5ECF6\", \"polar\": {\"angularaxis\": {\"gridcolor\": \"white\", \"linecolor\": \"white\", \"ticks\": \"\"}, \"bgcolor\": \"#E5ECF6\", \"radialaxis\": {\"gridcolor\": \"white\", \"linecolor\": \"white\", \"ticks\": \"\"}}, \"scene\": {\"xaxis\": {\"backgroundcolor\": \"#E5ECF6\", \"gridcolor\": \"white\", \"gridwidth\": 2, \"linecolor\": \"white\", \"showbackground\": true, \"ticks\": \"\", \"zerolinecolor\": \"white\"}, \"yaxis\": {\"backgroundcolor\": \"#E5ECF6\", \"gridcolor\": \"white\", \"gridwidth\": 2, \"linecolor\": \"white\", \"showbackground\": true, \"ticks\": \"\", \"zerolinecolor\": \"white\"}, \"zaxis\": {\"backgroundcolor\": \"#E5ECF6\", \"gridcolor\": \"white\", \"gridwidth\": 2, \"linecolor\": \"white\", \"showbackground\": true, \"ticks\": \"\", \"zerolinecolor\": \"white\"}}, \"shapedefaults\": {\"line\": {\"color\": \"#2a3f5f\"}}, \"ternary\": {\"aaxis\": {\"gridcolor\": \"white\", \"linecolor\": \"white\", \"ticks\": \"\"}, \"baxis\": {\"gridcolor\": \"white\", \"linecolor\": \"white\", \"ticks\": \"\"}, \"bgcolor\": \"#E5ECF6\", \"caxis\": {\"gridcolor\": \"white\", \"linecolor\": \"white\", \"ticks\": \"\"}}, \"title\": {\"x\": 0.05}, \"xaxis\": {\"automargin\": true, \"gridcolor\": \"white\", \"linecolor\": \"white\", \"ticks\": \"\", \"title\": {\"standoff\": 15}, \"zerolinecolor\": \"white\", \"zerolinewidth\": 2}, \"yaxis\": {\"automargin\": true, \"gridcolor\": \"white\", \"linecolor\": \"white\", \"ticks\": \"\", \"title\": {\"standoff\": 15}, \"zerolinecolor\": \"white\", \"zerolinewidth\": 2}}}},\n",
       "                        {\"responsive\": true}\n",
       "                    ).then(function(){\n",
       "                            \n",
       "var gd = document.getElementById('b8ddbb93-a75a-4380-acd8-4483f5e9afff');\n",
       "var x = new MutationObserver(function (mutations, observer) {{\n",
       "        var display = window.getComputedStyle(gd).display;\n",
       "        if (!display || display === 'none') {{\n",
       "            console.log([gd, 'removed!']);\n",
       "            Plotly.purge(gd);\n",
       "            observer.disconnect();\n",
       "        }}\n",
       "}});\n",
       "\n",
       "// Listen for the removal of the full notebook cells\n",
       "var notebookContainer = gd.closest('#notebook-container');\n",
       "if (notebookContainer) {{\n",
       "    x.observe(notebookContainer, {childList: true});\n",
       "}}\n",
       "\n",
       "// Listen for the clearing of the current output cell\n",
       "var outputEl = gd.closest('.output');\n",
       "if (outputEl) {{\n",
       "    x.observe(outputEl, {childList: true});\n",
       "}}\n",
       "\n",
       "                        })\n",
       "                };\n",
       "                });\n",
       "            </script>\n",
       "        </div>"
      ]
     },
     "metadata": {},
     "output_type": "display_data"
    }
   ],
   "source": [
    "#plot\n",
    "fig = go.Figure()\n",
    "x = [x for x in range(100)]\n",
    "fig.add_trace(go.Scatter(x = x, y= final_exp[0],mode = 'lines',name = 'eps=.01'))\n",
    "fig.add_trace(go.Scatter(x = x, y= final_exp[1],mode = 'lines',name = 'eps=.1'))\n",
    "fig.add_trace(go.Scatter(x = x, y= final_exp[2],mode = 'lines',name = 'eps=.7'))\n",
    "\n",
    "fig.show()"
   ]
  },
  {
   "cell_type": "code",
   "execution_count": null,
   "metadata": {},
   "outputs": [],
   "source": []
  }
 ],
 "metadata": {
  "kernelspec": {
   "display_name": "Python 3",
   "language": "python",
   "name": "python3"
  },
  "language_info": {
   "codemirror_mode": {
    "name": "ipython",
    "version": 3
   },
   "file_extension": ".py",
   "mimetype": "text/x-python",
   "name": "python",
   "nbconvert_exporter": "python",
   "pygments_lexer": "ipython3",
   "version": "3.7.4"
  }
 },
 "nbformat": 4,
 "nbformat_minor": 2
}
